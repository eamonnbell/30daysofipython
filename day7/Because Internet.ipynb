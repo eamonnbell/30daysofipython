{
 "cells": [
  {
   "cell_type": "markdown",
   "metadata": {},
   "source": [
    "# Day 7: Just Because\n",
    "\n",
    "\"are u seeing this because damn son\n",
    "\n",
    "Uses the Twitter Streaming API and `spaCy` to return tweets that meet the following conditions:\n",
    "- contain the word \"because\"\n",
    "- are not retweets\n",
    "- where the word following \"because\" is a noun\n",
    "- where there are no pronouns or verbs following \"because\"\n",
    "\n",
    "Why? Because \"because\". As you can see from the results below, it's far from perfect."
   ]
  },
  {
   "cell_type": "code",
   "execution_count": 70,
   "metadata": {
    "collapsed": false
   },
   "outputs": [
    {
     "name": "stdout",
     "output_type": "stream",
     "text": [
      "nlp in\n"
     ]
    }
   ],
   "source": [
    "from TwitterAPI import TwitterAPI\n",
    "import spacy.en\n",
    "\n",
    "TRACK_TERM = \"because\"\n",
    "\n",
    "CONSUMER_KEY = ''\n",
    "CONSUMER_SECRET = ''\n",
    "ACCESS_TOKEN_KEY= ''\n",
    "ACCESS_TOKEN_SECRET = ''\n",
    "\n",
    "nlp = spacy.en.English()\n",
    "print \"nlp in\"\n",
    "\n",
    "def strip_newlines(string):\n",
    "    return string.replace('\\n', '') \\\n",
    "          .replace('\\r', '')"
   ]
  },
  {
   "cell_type": "code",
   "execution_count": null,
   "metadata": {
    "collapsed": false
   },
   "outputs": [
    {
     "name": "stdout",
     "output_type": "stream",
     "text": [
      "\"Suga is Father of BTS because he’s charge of fixing the things that Rap Monster breaks.\" WTF!!!\n",
      "@Ar631 🎂✌🏻️ old times because good moments and love u...😘 http://t.co/7qi3oqhh2o\n",
      "i love watching d&amp;p at reading because most of the time dan had hobbit hair\n",
      "because dungarees yo https://t.co/g1FyZ0C9ct\n",
      "Liam looks so much happier with Sophia... I'm so happy he found someone who makes him happy because him happy makes me happy :)\n",
      "Ughhh lamia i absent tomzzzzz because so kapoyyyy\n",
      "I'm strong because I know my weaknesses. I'm wise because I've been foolish. I laugh because I've known sadness.\n",
      "I'm strong because I know my weaknesses. I'm wise because I've been foolish. I laugh because I've known sadness.\n",
      "The Sherlock is the funniest fandom FACT. (Immediately followed by the Orphan Black because durrrr).\n",
      "are u seeing this because damn son http://t.co/iMVjTto70x\n",
      "Staying up for as long as I can and will sleep in tomorrow for as long as I want because finally DAY OFF. FRI-Y😃Y!\n",
      "hi turn ur face to Allah because he s able to http://t.co/yQ49k8ddQy\n",
      "@ukwonsucks a bit haha but whatever because http://t.co/Z5HemvfhA7"
     ]
    }
   ],
   "source": [
    "def process(tweet):\n",
    "    tweet_good = False\n",
    "    \n",
    "    cleaned = strip_newlines(tweet).upper()\\\n",
    "        .replace(\"I'M\", \"I AM\")\\\n",
    "        .replace(\"IM\", \"I AM\")\\\n",
    "        .replace(\"'RE\", \" ARE\")\\\n",
    "        .replace(\"HE'S\", \"HE IS\")\\\n",
    "        .replace(\"SHE'S\", \"SHE IS\")\n",
    "            \n",
    "    tokens = nlp(cleaned)\n",
    "    \n",
    "    string = [tok.string.strip().upper() for tok in tokens]\n",
    "    pos = [tok.pos_ for tok in tokens]\n",
    "    \n",
    "    indices = [i for i, x in enumerate(string[:-1]) if x == \"BECAUSE\"]\n",
    "    \n",
    "    for index in indices:\n",
    "        if pos[index + 1] == 'NOUN' and 'VERB' not in pos[(index + 1):] and 'PRON' not in pos[(index + 1):]:\n",
    "            print strip_newlines(tweet)\n",
    "            \n",
    "\n",
    "api =  TwitterAPI(CONSUMER_KEY, CONSUMER_SECRET, ACCESS_TOKEN_KEY, ACCESS_TOKEN_SECRET)\n",
    "\n",
    "r = api.request('statuses/filter', {'track':TRACK_TERM})\n",
    "\n",
    "for item in r:\n",
    "    try:\n",
    "        if 'RT' not in item['text'] and 'because' in item['text']:\n",
    "            tweet = item['text']\n",
    "            process(tweet)\n",
    "    except:\n",
    "        continue"
   ]
  }
 ],
 "metadata": {
  "kernelspec": {
   "display_name": "Python 2",
   "language": "python",
   "name": "python2"
  },
  "language_info": {
   "codemirror_mode": {
    "name": "ipython",
    "version": 2
   },
   "file_extension": ".py",
   "mimetype": "text/x-python",
   "name": "python",
   "nbconvert_exporter": "python",
   "pygments_lexer": "ipython2",
   "version": "2.7.6"
  }
 },
 "nbformat": 4,
 "nbformat_minor": 0
}
