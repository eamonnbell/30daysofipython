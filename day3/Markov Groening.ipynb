{
 "cells": [
  {
   "cell_type": "markdown",
   "metadata": {},
   "source": [
    "# Day 3: Markov Groening"
   ]
  },
  {
   "cell_type": "markdown",
   "metadata": {},
   "source": [
    "Inspired by - and reusing entire chunks of code from - the post/iPython notebook \"The unreasonable effectiveness of Character-level Language Models\" (by [Yoav Goldberg](http://www.cs.bgu.ac.il/~yoavg/uni/)), in this notebook, I train a n-order character-level Markov model on synopses of a number of \"couch gags\" from the opening credits of _The Simpsons_, which were obtained [here](http://www.simpsoncrazy.com/lists/couch). More comprehensive lists are available elswhere (e.g. Wikia, other fan sites). Apparently the algorithm is similar to that referred to [on Wikpedia, here](https://en.wikipedia.org/wiki/Dissociated_press).\n",
    "\n",
    "This code is in dire need of refactoring. The concept of a \"model\" is ripe for characterization as an object, containing the defaultdict that defines it, plus a bunch of methods that train it, parameterize it, and request output from it. Perhaps for a later notebook. After all, it works. Other extensions might include figuring out a way for quirky outputs to be flagged as such, and to reject outputs that are too short, or patently unsyntactic\n",
    "\n",
    "I added a tiny tweak to the implementation. The text generation function takes a seed that should be < `(len(data) - 7)` to stop the implementation starting at the start of the data for its first `history`.\n",
    "\n",
    "## Sample output (some favorites)\n",
    "\n",
    "- Each family are rotates 180 degrees Matrix-style, and a statue of a Buddha resembling Agnes Skinner flies in last and living room floor is chosen.\n",
    "\n",
    "- The family rush in and against the edge of the couch made of gingerbread; Homer stands in the floor with black and white, everybody swings in on vines, however, doesn't make it very far and shoes but it turns the TV.\n",
    "\n",
    "- In black belts, everybody sits, then Bart puts a whoopee cushion on the right and bandages.\n"
   ]
  },
  {
   "cell_type": "code",
   "execution_count": 1,
   "metadata": {
    "collapsed": true
   },
   "outputs": [],
   "source": [
    "from collections import *\n",
    "import random\n",
    "\n",
    "def train_char_lm(fname, order=4):\n",
    "    data = file(fname).read()\n",
    "    lm = defaultdict(Counter)\n",
    "    \n",
    "    pad = \"~\" * order\n",
    "    data = pad + data\n",
    "\n",
    "    for i in xrange(len(data)-order):\n",
    "        history, char = data[i:i+order], data[i+order]\n",
    "        lm[history][char]+=1\n",
    "        \n",
    "    def normalize(counter):\n",
    "        s = float(sum(counter.values()))\n",
    "        return [(c,cnt/s) for c,cnt in counter.iteritems()]\n",
    "    \n",
    "    outlm = {hist:normalize(chars) for hist, chars in lm.iteritems()}\n",
    "    \n",
    "    return outlm\n",
    "\n",
    "def generate_letter(lm, history, order):\n",
    "    history = history[-order:]\n",
    "        \n",
    "    dist = lm[history]\n",
    "    x = random.random()\n",
    "        \n",
    "    for c,v in dist:\n",
    "        x = x - v\n",
    "        if x <= 0: return c\n",
    "            \n",
    "def generate_text(lm, order, nletters=1000, seed=None):\n",
    "    if seed is None:\n",
    "        history = \"~\" * order\n",
    "    else:\n",
    "        history = data[seed:seed+7]\n",
    "    \n",
    "    out = []\n",
    "    \n",
    "    for i in xrange(nletters):\n",
    "        c = generate_letter(lm, history, order)\n",
    "        history = history[-order:] + c\n",
    "        out.append(c)\n",
    "    \n",
    "    return \"\".join(out)\n"
   ]
  },
  {
   "cell_type": "code",
   "execution_count": 2,
   "metadata": {
    "collapsed": false
   },
   "outputs": [],
   "source": [
    "ORDER = 7 \n",
    "lm = train_char_lm(\"gags.txt\", order=ORDER)"
   ]
  },
  {
   "cell_type": "code",
   "execution_count": 3,
   "metadata": {
    "collapsed": false
   },
   "outputs": [
    {
     "name": "stdout",
     "output_type": "stream",
     "text": [
      "e Simpsons onto the couch is a paper shredder; everybody swings in on water, hits an ice-hockey rink; the family transforms into view, with the bill. It turns out to be the sailboat painting above the couch.\n",
      "\n",
      "Everybody water skis to the couch tracks into a sofa and sits on the wall and the headline: COUCH GAG THRILLS NATION and a giant baby picks the couch.\n",
      "\n",
      "A game hunter sits on the couch dressed in karate gear with black and white, everybody stops as the couch takes a bite of the family is pinned over their head up from behind the family enter... and eventually emerging from a girder at a construction site.\n",
      "\n",
      "In place of the room and sit in mid-air.\n",
      "\n",
      "Everyone slips on banana peels, but it manages to suck her pacifier drops it off and he gives it back, battle the Flanders who is shown as a 7.\n",
      "\n",
      "A gardener trims a hedge into the couch and it falls over backwards a shotgun and sits on an ancient-looking fish's tentacle. The top halves all land on the couch transformer toy vehicles entering and\n"
     ]
    }
   ],
   "source": [
    "data = file(\"gags.txt\").read()\n",
    "print generate_text(lm, ORDER, seed=random.randint(0, len(data) - ORDER)).replace('\\n', '\\n' * 2)"
   ]
  }
 ],
 "metadata": {
  "kernelspec": {
   "display_name": "Python 2",
   "language": "python",
   "name": "python2"
  },
  "language_info": {
   "codemirror_mode": {
    "name": "ipython",
    "version": 2
   },
   "file_extension": ".py",
   "mimetype": "text/x-python",
   "name": "python",
   "nbconvert_exporter": "python",
   "pygments_lexer": "ipython2",
   "version": "2.7.6"
  }
 },
 "nbformat": 4,
 "nbformat_minor": 0
}
