{
 "cells": [
  {
   "cell_type": "markdown",
   "metadata": {},
   "source": [
    "# Day 5: Reely Not That Different\n",
    "\n",
    "[Levenshtein distance](https://en.wikipedia.org/wiki/Levenshtein_distance) + [ABC Tunes](http://www.norbeck.nu/abc/) (traditional Irish music)"
   ]
  },
  {
   "cell_type": "code",
   "execution_count": 1,
   "metadata": {
    "collapsed": false
   },
   "outputs": [],
   "source": [
    "import Levenshtein\n",
    "import glob\n",
    "import itertools"
   ]
  },
  {
   "cell_type": "code",
   "execution_count": 2,
   "metadata": {
    "collapsed": false
   },
   "outputs": [],
   "source": [
    "filelist = glob.glob('tunes/hnr*.abc')"
   ]
  },
  {
   "cell_type": "code",
   "execution_count": 3,
   "metadata": {
    "collapsed": false
   },
   "outputs": [],
   "source": [
    "text = ''\n",
    "\n",
    "for filename in filelist:\n",
    "    with open(filename, 'r') as fp:\n",
    "        text += fp.read()"
   ]
  },
  {
   "cell_type": "code",
   "execution_count": 4,
   "metadata": {
    "collapsed": false
   },
   "outputs": [],
   "source": [
    "tunes = text.split('X:')[1:]"
   ]
  },
  {
   "cell_type": "code",
   "execution_count": 5,
   "metadata": {
    "collapsed": false
   },
   "outputs": [],
   "source": [
    "lines = []\n",
    "master = []\n",
    "\n",
    "for index, tune in enumerate(tunes):\n",
    "    body = tune.split('K:')[1].split('\\r\\n')[1:]\n",
    "    name = tune.split('T:')[1].split('\\r\\n')[0]\n",
    "    \n",
    "    first_line = body[0].split('|')\n",
    "    first_line = [measure.replace(':', '') for measure in first_line]\n",
    "    first_line = [measure.replace('1 ', '') for measure in first_line]\n",
    "    first_line = [measure.replace(' ', '') for measure in first_line]\n",
    "    first_line = [measure.strip() for measure in first_line]\n",
    "    \n",
    "    if len(first_line[:4]) != 4:\n",
    "        continue\n",
    "        \n",
    "    if len(first_line[0]) < 4:\n",
    "        continue\n",
    "    \n",
    "    first_line = \" \".join(first_line[:4])\n",
    "    \n",
    "    lines.append(first_line)\n",
    "    \n",
    "    tune = {\n",
    "        'id_' : index,\n",
    "        'name' : name,\n",
    "        'first_line' : first_line\n",
    "    }\n",
    "    \n",
    "    master.append(tune)"
   ]
  },
  {
   "cell_type": "code",
   "execution_count": 6,
   "metadata": {
    "collapsed": false
   },
   "outputs": [
    {
     "data": {
      "text/plain": [
       "('BG~G2BGcG BG~G2Bdgd BG~G2BdcB ADFGABcA',\n",
       " {'first_line': 'BG~G2BGcG BG~G2Bdgd BG~G2BdcB ADFGABcA',\n",
       "  'id_': 0,\n",
       "  'name': 'Flogging Reel, The'})"
      ]
     },
     "execution_count": 6,
     "metadata": {},
     "output_type": "execute_result"
    }
   ],
   "source": [
    "lines[0], master[0]"
   ]
  },
  {
   "cell_type": "code",
   "execution_count": 7,
   "metadata": {
    "collapsed": false
   },
   "outputs": [],
   "source": [
    "corpus = [\"\".join(line) for line in lines]"
   ]
  },
  {
   "cell_type": "code",
   "execution_count": 8,
   "metadata": {
    "collapsed": false
   },
   "outputs": [],
   "source": [
    "all_pairs = itertools.combinations(corpus, 2)"
   ]
  },
  {
   "cell_type": "code",
   "execution_count": 9,
   "metadata": {
    "collapsed": false
   },
   "outputs": [],
   "source": [
    "data = []\n",
    "for pair in all_pairs:\n",
    "    row = [pair[0], pair[1], Levenshtein.distance(*pair)]\n",
    "    data.append(row)"
   ]
  },
  {
   "cell_type": "code",
   "execution_count": 10,
   "metadata": {
    "collapsed": false
   },
   "outputs": [],
   "source": [
    "data.sort(key=lambda x: x[2])"
   ]
  },
  {
   "cell_type": "code",
   "execution_count": 11,
   "metadata": {
    "collapsed": false
   },
   "outputs": [],
   "source": [
    "top_25 = data[:25]"
   ]
  },
  {
   "cell_type": "code",
   "execution_count": 12,
   "metadata": {
    "collapsed": false
   },
   "outputs": [
    {
     "data": {
      "text/plain": [
       "[['cE~E2cded cE~E2G2AB cE~E2cded cABG~A3B',\n",
       "  'cE~E2cded cE~E2G2AB cE~E2cded cABG~A3B',\n",
       "  0],\n",
       " ['FEDEFA~A2 BAdABAdA FEDEFA~A2 BAdAFE~E2',\n",
       "  'FEDEFA~A2 BAdABAdA FEDEFA~A2 BAdAFE~E2',\n",
       "  0],\n",
       " ['~b3a~g3e dB~B2dega ~b3a~g3e dBGABA~A2',\n",
       "  '~b3a~g3e dB~B2dega ~b3a~g3e dBGABA~A2',\n",
       "  0],\n",
       " ['AG~G2AGFD AG~G2Addc AG~G2AGFD FEFGABcA',\n",
       "  'AG~G2AGFD AG~G2Addc AG~G2AGFD =FEFGABcA',\n",
       "  1],\n",
       " ['~B3G~A3G FDADBDAF DGGFG2ge fddcABcA',\n",
       "  '~B3GABAG FDADBDAF DGGFG2ge fddcABcA',\n",
       "  3],\n",
       " ['ea~a2eg~g2 ea~a2ABcd ea~a2efge afged2cd',\n",
       "  'ea~a2efgf ea~a2ABcd ea~a2efge afged2cd',\n",
       "  3],\n",
       " ['G2BdcAFA GABdg2fg ec~c2dB~B2 cAABAFDF',\n",
       "  '~G3BcABA GABdg2fg ec~c2dB~B2 cAABAFDF',\n",
       "  4],\n",
       " ['~E3FABcA ~A2cABFAF ~E3FABcA BF~F2BFAF',\n",
       "  '~E3FABcd eAcABAFA ~E3FABcA BF~F2BFAF',\n",
       "  5],\n",
       " ['EAABe2dB e2dBGABG EAAB~e3f gedBBAAG',\n",
       "  'EAABe2dB eBdBGAAG EAABedef gedBBAAG',\n",
       "  5],\n",
       " ['DFEFD2AB c2cGEFGE DFEFD2AB cAGEED~D2',\n",
       "  'DFEFD2dB cAAGEFGE DFEFD2dB cAGEEDDE',\n",
       "  6],\n",
       " ['e2ABcdec d2BGdG(3Bcd eAABcdef gedgeAAd',\n",
       "  'e2ABcdec dGBGdG(3Bcd e2ABcdea gedBBAA2',\n",
       "  6],\n",
       " ['G2FGEGDE G2BGdGBG G2FGEGDG BeedBA~A2',\n",
       "  'G2BGEGDE G2BGdGBA G2BGEGDG BdedB2AB',\n",
       "  7],\n",
       " ['BF~F2BFAF E2DEFA~A2 BF~F2BFAF EFDEFDDA',\n",
       "  'BE~E2BFAF EFDEFA~A2 BE~E2B2AF EFDEFDD2',\n",
       "  7],\n",
       " ['gdBdedBA G2BdedBd gdBdedef gefdefga',\n",
       "  'gedBedBA G2BdedBd gedB~e3f geedefga',\n",
       "  7],\n",
       " ['e2(3cBAeAcA eAcABcdf e2(3cBAeAcA (3BcdcABAFA',\n",
       "  'e2(3cBAeAcA eAcABcdf eAcAeAcA BdcABAFA',\n",
       "  7],\n",
       " ['BEEDE2GE E2GEDEGA BEEDE2DE GABGA2GA',\n",
       "  'BEEDE2DE GEDB,DEGA BEEDE2DE ~G3BA2GA',\n",
       "  8],\n",
       " ['DGBGAGEG dGBGAGEG DGBGAGEG gedBA2GE',\n",
       "  'DGBGAGBG DGBGAGEG DGBGAGAB d2edBGGE',\n",
       "  8],\n",
       " ['gB~B2gBaB gB~B2dBAB gB~B2gbag fgefd2ef',\n",
       "  'gB~B2GB~B2 gB~B2dBAB gB~B2gbag fge^cdBAB',\n",
       "  8],\n",
       " ['BE~E2B2ed (3BcdAFDEFA BE~E2B2ed (3BcdAdBeed',\n",
       "  'BE~E2B2ed (3BcdAGFEFA BE~E2B2ed (3BcdAGFE~E2',\n",
       "  8],\n",
       " ['DF~F2D2FE DF~F2AFEF DF~F2D2ed cABGAFEF',\n",
       "  'dF~F2dFeF dF~F2AFEF dF~F2dfed cABGAFEF',\n",
       "  9],\n",
       " ['~A3BADED A2FABddB ~A3BAFED EFGABedB',\n",
       "  '~A3BA2GE A2GABddB ~A3BAGEF ~G3ABedB',\n",
       "  9],\n",
       " ['DGGFDEFA DG~G2dBcA DGGFDEFD cAFAc2BA',\n",
       "  'DG~G2DEFA DG~G2DGBG DG~G2DEFA cAFAc2BA',\n",
       "  9],\n",
       " ['BeedB2dB AF~F2dFAF EFGABAFB ABdfeB~B2',\n",
       "  'efedBcdB ABGBAFGF EFGABAFB ABdfeB~B2',\n",
       "  9],\n",
       " ['D2ABAGE^F GEcEdEcE D2ABAGE^F GEcEEDCE',\n",
       "  'd2cAGEE^F GEcEdEcE d2cAGEE^F GEcEEDD2',\n",
       "  10],\n",
       " ['A2FA2DFA B2GB2DGB A2FA2DFA EFGAGFED',\n",
       "  'A2FAA2FA B2GBB2GB A2FAA2FA EFGABcdB',\n",
       "  10]]"
      ]
     },
     "execution_count": 12,
     "metadata": {},
     "output_type": "execute_result"
    }
   ],
   "source": [
    "top_25"
   ]
  },
  {
   "cell_type": "code",
   "execution_count": 14,
   "metadata": {
    "collapsed": true
   },
   "outputs": [],
   "source": [
    "def get_tune_name(tune):\n",
    "    return (item['name'] for item in master if item['first_line'] == tune).next()"
   ]
  },
  {
   "cell_type": "code",
   "execution_count": 15,
   "metadata": {
    "collapsed": false
   },
   "outputs": [
    {
     "name": "stdout",
     "output_type": "stream",
     "text": [
      "Scotch Mary ~ Scotch Mary with L(x, y) = 0\n",
      "Graf Spee, The ~ Graf Spee, The with L(x, y) = 0\n",
      "Primrose Lass, The ~ Primrose Lass, The with L(x, y) = 0\n",
      "Steampacket, The ~ Steampacket, The with L(x, y) = 1\n",
      "Upstairs in a Tent ~ Peg McGrath's with L(x, y) = 3\n",
      "Mick Hoy's ~ Fair Haired Lass, The with L(x, y) = 3\n",
      "Patricia Wilmot's Reel ~ Patricia Wilmot's Reel with L(x, y) = 4\n",
      "McFadden's Handsome Daughter ~ Kit O'Connor with L(x, y) = 5\n",
      "Sweetheart Reel, The ~ Temple Hill with L(x, y) = 5\n",
      "Scartaglen Reel, The ~ Scartaglen Reel, The with L(x, y) = 6\n",
      "Eel in the Sink, The ~ Blackthorn, The with L(x, y) = 6\n",
      "Solus Lillis' Reel ~ Mama's Pet with L(x, y) = 7\n",
      "Old Maids of Galway, The ~ Paddy Gone to France with L(x, y) = 7\n",
      "Finbar Dwyer's ~ Finbar Dwyer's with L(x, y) = 7\n",
      "Union Reel, The ~ Moher Reel with L(x, y) = 7\n",
      "Drag Her round the Road ~ Drag Her round the Road with L(x, y) = 8\n",
      "Coalminer's Reel, The ~ Denis Murphy's with L(x, y) = 8\n",
      "Dublin Reel, The ~ Dublin Reel, The with L(x, y) = 8\n",
      "Old Gorman's Reel ~ Long Strand with L(x, y) = 8\n",
      "Cocktail, The ~ Dublin Reel, The with L(x, y) = 9\n",
      "Leitrim Bucks, The ~ Abbey Reel, The with L(x, y) = 9\n",
      "Yellow Tinker, The ~ Yellow Tinker, The with L(x, y) = 9\n",
      "Ships are Sailing ~ Jackson's with L(x, y) = 9\n",
      "Jenny's Welcome to Charlie ~ Tempest, The with L(x, y) = 10\n",
      "Willafjord ~ Kilfenora Reel, The with L(x, y) = 10\n"
     ]
    }
   ],
   "source": [
    "for pair in top_25:\n",
    "    print \"{} ~ {} with L(x, y) = {}\".format(get_tune_name(pair[0]), get_tune_name(pair[1]), pair[2])"
   ]
  }
 ],
 "metadata": {
  "kernelspec": {
   "display_name": "Python 2",
   "language": "python",
   "name": "python2"
  },
  "language_info": {
   "codemirror_mode": {
    "name": "ipython",
    "version": 2
   },
   "file_extension": ".py",
   "mimetype": "text/x-python",
   "name": "python",
   "nbconvert_exporter": "python",
   "pygments_lexer": "ipython2",
   "version": "2.7.6"
  }
 },
 "nbformat": 4,
 "nbformat_minor": 0
}
