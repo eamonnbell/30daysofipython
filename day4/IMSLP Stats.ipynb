{
 "cells": [
  {
   "cell_type": "markdown",
   "metadata": {},
   "source": [
    "# Day 4: IMSLP Download Stats\n",
    "\n",
    "An easy one for today that I'm going to use in a project at some point in the future: getting download statistics from ISMLP with Beautiful Soup 4. I scrape the list [here](http://imslp.org/wiki/Special:IMSLPPopularFiles), parse it for links to the IMSLP work page, then extract the name of the composer and the work from the header. I was trying to use the infoboxes on the bottom of the page but it didn't work out: the infoboxes contain different information from page to page."
   ]
  },
  {
   "cell_type": "code",
   "execution_count": 1,
   "metadata": {
    "collapsed": true
   },
   "outputs": [],
   "source": [
    "import bs4\n",
    "import requests\n",
    "import re"
   ]
  },
  {
   "cell_type": "code",
   "execution_count": 2,
   "metadata": {
    "collapsed": true
   },
   "outputs": [],
   "source": [
    "base_url = 'http://imslp.org/wiki/Special:IMSLPPopularFiles/{}'\n",
    "urls = [base_url.format((index)*100) for index in range(2)]\n",
    "page_texts = []"
   ]
  },
  {
   "cell_type": "code",
   "execution_count": 3,
   "metadata": {
    "collapsed": false
   },
   "outputs": [],
   "source": [
    "for url in urls:\n",
    "    page = requests.get(url)\n",
    "    page_texts.append(page.text)"
   ]
  },
  {
   "cell_type": "code",
   "execution_count": 4,
   "metadata": {
    "collapsed": false
   },
   "outputs": [],
   "source": [
    "def parse_table(page_text):\n",
    "    bs = bs4.BeautifulSoup(page_text)\n",
    "    table = bs.find('table')\n",
    "    rows = []\n",
    "        \n",
    "    for row in table.findAll('tr')[1:]:\n",
    "        cols = row.findAll('td')\n",
    "        rank = cols[0].string\n",
    "        \n",
    "        index_number = cols[1].string.replace('#', '')\n",
    "        index_url = ('http://imslp.org/index.php?title=Special:ReverseLookup&'\n",
    "        'action=submit&indexsearch={}').format(index_number)\n",
    "        \n",
    "        file_name = cols[2].string\n",
    "        file_url = u'http://imslp.org/wiki/File:{}'.format(file_name)\n",
    "        download_count = cols[3].string\n",
    "        \n",
    "        rows.append([rank, index_number, index_url, file_name, file_url, download_count])\n",
    "    \n",
    "    return rows"
   ]
  },
  {
   "cell_type": "code",
   "execution_count": 5,
   "metadata": {
    "collapsed": false
   },
   "outputs": [
    {
     "name": "stderr",
     "output_type": "stream",
     "text": [
      "/home/eamonn/Projects/imslpstats/venv/lib/python2.7/site-packages/bs4/__init__.py:166: UserWarning: No parser was explicitly specified, so I'm using the best available HTML parser for this system (\"lxml\"). This usually isn't a problem, but if you run this code on another system, or in a different virtual environment, it may use a different parser and behave differently.\n",
      "\n",
      "To get rid of this warning, change this:\n",
      "\n",
      " BeautifulSoup([your markup])\n",
      "\n",
      "to this:\n",
      "\n",
      " BeautifulSoup([your markup], \"lxml\")\n",
      "\n",
      "  markup_type=markup_type))\n"
     ]
    }
   ],
   "source": [
    "master = []\n",
    "for page_text in page_texts:\n",
    "    master.extend(parse_table(page_text))"
   ]
  },
  {
   "cell_type": "code",
   "execution_count": 6,
   "metadata": {
    "collapsed": false
   },
   "outputs": [
    {
     "data": {
      "text/plain": [
       "200"
      ]
     },
     "execution_count": 6,
     "metadata": {},
     "output_type": "execute_result"
    }
   ],
   "source": [
    "len(master)"
   ]
  },
  {
   "cell_type": "code",
   "execution_count": 7,
   "metadata": {
    "collapsed": false
   },
   "outputs": [],
   "source": [
    "def get_information(page_text):\n",
    "    bs = bs4.BeautifulSoup(page_text)\n",
    "    heading = bs.find('h1', class_='firstHeading').text\n",
    "    composer = re.findall('\\((.*?)\\)',heading)[-1]\n",
    "    title = heading.split('(')[0].strip()\n",
    "    return [title, composer]"
   ]
  },
  {
   "cell_type": "code",
   "execution_count": 8,
   "metadata": {
    "collapsed": false,
    "scrolled": true
   },
   "outputs": [
    {
     "ename": "IndexError",
     "evalue": "list index out of range",
     "output_type": "error",
     "traceback": [
      "\u001b[1;31m---------------------------------------------------------------------------\u001b[0m",
      "\u001b[1;31mIndexError\u001b[0m                                Traceback (most recent call last)",
      "\u001b[1;32m<ipython-input-8-d376b6c958b1>\u001b[0m in \u001b[0;36m<module>\u001b[1;34m()\u001b[0m\n\u001b[0;32m      1\u001b[0m \u001b[1;32mfor\u001b[0m \u001b[0mindex\u001b[0m\u001b[1;33m,\u001b[0m \u001b[0mitem\u001b[0m \u001b[1;32min\u001b[0m \u001b[0menumerate\u001b[0m\u001b[1;33m(\u001b[0m\u001b[0mmaster\u001b[0m\u001b[1;33m)\u001b[0m\u001b[1;33m:\u001b[0m\u001b[1;33m\u001b[0m\u001b[0m\n\u001b[0;32m      2\u001b[0m     \u001b[0mpage\u001b[0m \u001b[1;33m=\u001b[0m \u001b[0mrequests\u001b[0m\u001b[1;33m.\u001b[0m\u001b[0mget\u001b[0m\u001b[1;33m(\u001b[0m\u001b[0mitem\u001b[0m\u001b[1;33m[\u001b[0m\u001b[1;36m2\u001b[0m\u001b[1;33m]\u001b[0m\u001b[1;33m)\u001b[0m\u001b[1;33m\u001b[0m\u001b[0m\n\u001b[1;32m----> 3\u001b[1;33m     \u001b[0mitem\u001b[0m\u001b[1;33m.\u001b[0m\u001b[0mextend\u001b[0m\u001b[1;33m(\u001b[0m\u001b[0mget_information\u001b[0m\u001b[1;33m(\u001b[0m\u001b[0mpage\u001b[0m\u001b[1;33m.\u001b[0m\u001b[0mtext\u001b[0m\u001b[1;33m)\u001b[0m\u001b[1;33m)\u001b[0m\u001b[1;33m\u001b[0m\u001b[0m\n\u001b[0m",
      "\u001b[1;32m<ipython-input-7-f946b0b8e2ee>\u001b[0m in \u001b[0;36mget_information\u001b[1;34m(page_text)\u001b[0m\n\u001b[0;32m      4\u001b[0m     \u001b[0mbs\u001b[0m \u001b[1;33m=\u001b[0m \u001b[0mbs4\u001b[0m\u001b[1;33m.\u001b[0m\u001b[0mBeautifulSoup\u001b[0m\u001b[1;33m(\u001b[0m\u001b[0mpage_text\u001b[0m\u001b[1;33m)\u001b[0m\u001b[1;33m\u001b[0m\u001b[0m\n\u001b[0;32m      5\u001b[0m     \u001b[0mheading\u001b[0m \u001b[1;33m=\u001b[0m \u001b[0mbs\u001b[0m\u001b[1;33m.\u001b[0m\u001b[0mfind\u001b[0m\u001b[1;33m(\u001b[0m\u001b[1;34m'h1'\u001b[0m\u001b[1;33m,\u001b[0m \u001b[0mclass_\u001b[0m\u001b[1;33m=\u001b[0m\u001b[1;34m'firstHeading'\u001b[0m\u001b[1;33m)\u001b[0m\u001b[1;33m.\u001b[0m\u001b[0mtext\u001b[0m\u001b[1;33m\u001b[0m\u001b[0m\n\u001b[1;32m----> 6\u001b[1;33m     \u001b[0mcomposer\u001b[0m \u001b[1;33m=\u001b[0m \u001b[0mre\u001b[0m\u001b[1;33m.\u001b[0m\u001b[0mfindall\u001b[0m\u001b[1;33m(\u001b[0m\u001b[1;34m'\\((.*?)\\)'\u001b[0m\u001b[1;33m,\u001b[0m\u001b[0mheading\u001b[0m\u001b[1;33m)\u001b[0m\u001b[1;33m[\u001b[0m\u001b[1;33m-\u001b[0m\u001b[1;36m1\u001b[0m\u001b[1;33m]\u001b[0m\u001b[1;33m\u001b[0m\u001b[0m\n\u001b[0m\u001b[0;32m      7\u001b[0m     \u001b[0mtitle\u001b[0m \u001b[1;33m=\u001b[0m \u001b[0mheading\u001b[0m\u001b[1;33m.\u001b[0m\u001b[0msplit\u001b[0m\u001b[1;33m(\u001b[0m\u001b[1;34m'('\u001b[0m\u001b[1;33m)\u001b[0m\u001b[1;33m[\u001b[0m\u001b[1;36m0\u001b[0m\u001b[1;33m]\u001b[0m\u001b[1;33m.\u001b[0m\u001b[0mstrip\u001b[0m\u001b[1;33m(\u001b[0m\u001b[1;33m)\u001b[0m\u001b[1;33m\u001b[0m\u001b[0m\n\u001b[0;32m      8\u001b[0m     \u001b[1;32mreturn\u001b[0m \u001b[1;33m[\u001b[0m\u001b[0mtitle\u001b[0m\u001b[1;33m,\u001b[0m \u001b[0mcomposer\u001b[0m\u001b[1;33m]\u001b[0m\u001b[1;33m\u001b[0m\u001b[0m\n",
      "\u001b[1;31mIndexError\u001b[0m: list index out of range"
     ]
    }
   ],
   "source": [
    "for index, item in enumerate(master):\n",
    "    page = requests.get(item[2])\n",
    "    item.extend(get_information(page.text))"
   ]
  },
  {
   "cell_type": "code",
   "execution_count": 9,
   "metadata": {
    "collapsed": false
   },
   "outputs": [
    {
     "data": {
      "text/plain": [
       "[[u'1.',\n",
       "  u'86710',\n",
       "  'http://imslp.org/index.php?title=Special:ReverseLookup&action=submit&indexsearch=86710',\n",
       "  u'PMLP03848-nocturne C- minor B.49.pdf',\n",
       "  u'http://imslp.org/wiki/File:PMLP03848-nocturne C- minor B.49.pdf',\n",
       "  u'147213',\n",
       "  u'Nocturne in C-sharp minor, B.49',\n",
       "  u'Chopin, Fr\\xe9d\\xe9ric'],\n",
       " [u'2.',\n",
       "  u'81759',\n",
       "  'http://imslp.org/index.php?title=Special:ReverseLookup&action=submit&indexsearch=81759',\n",
       "  u'PMLP05948-BWV 846.pdf',\n",
       "  u'http://imslp.org/wiki/File:PMLP05948-BWV 846.pdf',\n",
       "  u'144970',\n",
       "  u'Das wohltemperierte Klavier I, BWV 846-869',\n",
       "  u'Bach, Johann Sebastian'],\n",
       " [u'3.',\n",
       "  u'01307',\n",
       "  'http://imslp.org/index.php?title=Special:ReverseLookup&action=submit&indexsearch=01307',\n",
       "  u'BWV1004.pdf',\n",
       "  u'http://imslp.org/wiki/File:BWV1004.pdf',\n",
       "  u'141121',\n",
       "  u'Violin Partita No.2 in D minor, BWV 1004',\n",
       "  u'Bach, Johann Sebastian'],\n",
       " [u'4.',\n",
       "  u'16156',\n",
       "  'http://imslp.org/index.php?title=Special:ReverseLookup&action=submit&indexsearch=16156',\n",
       "  u'Debussy - Clair de Lune (voice and piano).pdf',\n",
       "  u'http://imslp.org/wiki/File:Debussy - Clair de Lune (voice and piano).pdf',\n",
       "  u'137819',\n",
       "  u'Clair de lune',\n",
       "  u'Debussy, Claude'],\n",
       " [u'5.',\n",
       "  u'01298',\n",
       "  'http://imslp.org/index.php?title=Special:ReverseLookup&action=submit&indexsearch=01298',\n",
       "  u'BWV1007.pdf',\n",
       "  u'http://imslp.org/wiki/File:BWV1007.pdf',\n",
       "  u'120421',\n",
       "  u'Cello Suite No.1 in G major, BWV 1007',\n",
       "  u'Bach, Johann Sebastian'],\n",
       " [u'6.',\n",
       "  u'56442',\n",
       "  'http://imslp.org/index.php?title=Special:ReverseLookup&action=submit&indexsearch=56442',\n",
       "  u'PMLP01855-Mozart Werke Breitkopf Serie 20 KV545.pdf',\n",
       "  u'http://imslp.org/wiki/File:PMLP01855-Mozart Werke Breitkopf Serie 20 KV545.pdf',\n",
       "  u'119212',\n",
       "  u'Piano Sonata No.16 in C major, K.545',\n",
       "  u'Mozart, Wolfgang Amadeus'],\n",
       " [u'7.',\n",
       "  u'03213',\n",
       "  'http://imslp.org/index.php?title=Special:ReverseLookup&action=submit&indexsearch=03213',\n",
       "  u'Satie-GymnopediesOrEd.pdf',\n",
       "  u'http://imslp.org/wiki/File:Satie-GymnopediesOrEd.pdf',\n",
       "  u'117092',\n",
       "  u'3 Gymnop\\xe9dies',\n",
       "  u'Satie, Erik'],\n",
       " [u'8.',\n",
       "  u'44549',\n",
       "  'http://imslp.org/index.php?title=Special:ReverseLookup&action=submit&indexsearch=44549',\n",
       "  u'PMLP04611-Pachelbel-KanonundGigueFS.pdf',\n",
       "  u'http://imslp.org/wiki/File:PMLP04611-Pachelbel-KanonundGigueFS.pdf',\n",
       "  u'115503',\n",
       "  u'Canon and Gigue in D major',\n",
       "  u'Pachelbel, Johann'],\n",
       " [u'9.',\n",
       "  u'00509',\n",
       "  'http://imslp.org/index.php?title=Special:ReverseLookup&action=submit&indexsearch=00509',\n",
       "  u'Debussy - Preludes, Book 1.pdf',\n",
       "  u'http://imslp.org/wiki/File:Debussy - Preludes, Book 1.pdf',\n",
       "  u'115195',\n",
       "  u'Pr\\xe9ludes',\n",
       "  u'Debussy, Claude'],\n",
       " [u'10.',\n",
       "  u'85374',\n",
       "  'http://imslp.org/index.php?title=Special:ReverseLookup&action=submit&indexsearch=85374',\n",
       "  u'PMLP02344-Chopin Op 28 Breitkopf 6088 first.pdf',\n",
       "  u'http://imslp.org/wiki/File:PMLP02344-Chopin Op 28 Breitkopf 6088 first.pdf',\n",
       "  u'114508',\n",
       "  u'Preludes, Op.28',\n",
       "  u'Chopin, Fr\\xe9d\\xe9ric']]"
      ]
     },
     "execution_count": 9,
     "metadata": {},
     "output_type": "execute_result"
    }
   ],
   "source": [
    "master[:10]"
   ]
  },
  {
   "cell_type": "code",
   "execution_count": null,
   "metadata": {
    "collapsed": true
   },
   "outputs": [],
   "source": []
  }
 ],
 "metadata": {
  "kernelspec": {
   "display_name": "Python 2",
   "language": "python",
   "name": "python2"
  },
  "language_info": {
   "codemirror_mode": {
    "name": "ipython",
    "version": 2
   },
   "file_extension": ".py",
   "mimetype": "text/x-python",
   "name": "python",
   "nbconvert_exporter": "python",
   "pygments_lexer": "ipython2",
   "version": "2.7.6"
  }
 },
 "nbformat": 4,
 "nbformat_minor": 0
}
