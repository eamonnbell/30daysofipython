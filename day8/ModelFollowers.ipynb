{
 "cells": [
  {
   "cell_type": "markdown",
   "metadata": {},
   "source": [
    "# Day 8: Model Followers\n",
    "\n",
    "Complicated and unrewarding one for today, with lots of learning required to pull it off for little results. But anyway, here we go. Determines age and gender of Twitter followers according to profile photo, using cutting-edge CNN published this year. For the paper, see [here](http://www.openu.ac.il/home/hassner/projects/cnn_agegender/). Somewhat inspired by [this](https://blog.scraperwiki.com/2014/02/face-rekognition/).\n",
    "\n",
    "Pipeline:\n",
    "\n",
    "- Get full-size images of all profiles of twitter followers\n",
    "    - Straighforward. Use `tweepy` and strip `_original` from returned profile pic\n",
    "    - Ran into ratelimiting. Better to use the follower_id getter call and resolve to User objects (batches of 100)\n",
    "- Convert to JPEG\n",
    "    - `imagemagick`\n",
    "- Use OpenCV to find faces and crop to bounding box\n",
    "    - Only picked images where one face found\n",
    "    - Extensive code borrowing from [here](https://realpython.com/blog/python/face-recognition-with-python/)\n",
    "- Spin up a docker container with Caffe dependencies installed\n",
    "    - Worth a blog post in and of itself\n",
    "    - Getting the images in was fun\n",
    "- Go crazy realizing demo code does not work out of the box (does it ever?)\n",
    "- Modify code from CNN site above to output filename, est. age, est. gender\n",
    "- Realize output sucks"
   ]
  },
  {
   "cell_type": "code",
   "execution_count": 22,
   "metadata": {
    "collapsed": false
   },
   "outputs": [],
   "source": [
    "import tweepy\n",
    "import urllib"
   ]
  },
  {
   "cell_type": "code",
   "execution_count": 49,
   "metadata": {
    "collapsed": false
   },
   "outputs": [],
   "source": [
    "CONSUMER_KEY = ''\n",
    "CONSUMER_SECRET = ''\n",
    "ACCESS_TOKEN_KEY= ''\n",
    "ACCESS_TOKEN_SECRET = ''"
   ]
  },
  {
   "cell_type": "code",
   "execution_count": 7,
   "metadata": {
    "collapsed": true
   },
   "outputs": [],
   "source": [
    "auth = tweepy.OAuthHandler(CONSUMER_KEY, CONSUMER_SECRET)\n",
    "auth.set_access_token(ACCESS_TOKEN_KEY, ACCESS_TOKEN_SECRET)\n",
    "\n",
    "api = tweepy.API(auth)"
   ]
  },
  {
   "cell_type": "code",
   "execution_count": null,
   "metadata": {
    "collapsed": true
   },
   "outputs": [],
   "source": [
    "api.followers_ids"
   ]
  },
  {
   "cell_type": "code",
   "execution_count": 12,
   "metadata": {
    "collapsed": false
   },
   "outputs": [],
   "source": [
    "followers = []"
   ]
  },
  {
   "cell_type": "code",
   "execution_count": 13,
   "metadata": {
    "collapsed": false
   },
   "outputs": [
    {
     "ename": "TweepError",
     "evalue": "[{u'message': u'Rate limit exceeded', u'code': 88}]",
     "output_type": "error",
     "traceback": [
      "\u001b[1;31m---------------------------------------------------------------------------\u001b[0m",
      "\u001b[1;31mTweepError\u001b[0m                                Traceback (most recent call last)",
      "\u001b[1;32m<ipython-input-13-128ecba1b144>\u001b[0m in \u001b[0;36m<module>\u001b[1;34m()\u001b[0m\n\u001b[1;32m----> 1\u001b[1;33m \u001b[1;32mfor\u001b[0m \u001b[0mfollower\u001b[0m \u001b[1;32min\u001b[0m \u001b[0mtweepy\u001b[0m\u001b[1;33m.\u001b[0m\u001b[0mCursor\u001b[0m\u001b[1;33m(\u001b[0m\u001b[0mapi\u001b[0m\u001b[1;33m.\u001b[0m\u001b[0mfollowers\u001b[0m\u001b[1;33m)\u001b[0m\u001b[1;33m.\u001b[0m\u001b[0mitems\u001b[0m\u001b[1;33m(\u001b[0m\u001b[1;33m)\u001b[0m\u001b[1;33m:\u001b[0m\u001b[1;33m\u001b[0m\u001b[0m\n\u001b[0m\u001b[0;32m      2\u001b[0m     \u001b[0mfollowers\u001b[0m\u001b[1;33m.\u001b[0m\u001b[0mappend\u001b[0m\u001b[1;33m(\u001b[0m\u001b[0mfollower\u001b[0m\u001b[1;33m)\u001b[0m\u001b[1;33m\u001b[0m\u001b[0m\n",
      "\u001b[1;32m/usr/local/lib/python2.7/dist-packages/tweepy/cursor.pyc\u001b[0m in \u001b[0;36mnext\u001b[1;34m(self)\u001b[0m\n\u001b[0;32m    195\u001b[0m         \u001b[1;32mif\u001b[0m \u001b[0mself\u001b[0m\u001b[1;33m.\u001b[0m\u001b[0mcurrent_page\u001b[0m \u001b[1;32mis\u001b[0m \u001b[0mNone\u001b[0m \u001b[1;32mor\u001b[0m \u001b[0mself\u001b[0m\u001b[1;33m.\u001b[0m\u001b[0mpage_index\u001b[0m \u001b[1;33m==\u001b[0m \u001b[0mlen\u001b[0m\u001b[1;33m(\u001b[0m\u001b[0mself\u001b[0m\u001b[1;33m.\u001b[0m\u001b[0mcurrent_page\u001b[0m\u001b[1;33m)\u001b[0m \u001b[1;33m-\u001b[0m \u001b[1;36m1\u001b[0m\u001b[1;33m:\u001b[0m\u001b[1;33m\u001b[0m\u001b[0m\n\u001b[0;32m    196\u001b[0m             \u001b[1;31m# Reached end of current page, get the next page...\u001b[0m\u001b[1;33m\u001b[0m\u001b[1;33m\u001b[0m\u001b[0m\n\u001b[1;32m--> 197\u001b[1;33m             \u001b[0mself\u001b[0m\u001b[1;33m.\u001b[0m\u001b[0mcurrent_page\u001b[0m \u001b[1;33m=\u001b[0m \u001b[0mself\u001b[0m\u001b[1;33m.\u001b[0m\u001b[0mpage_iterator\u001b[0m\u001b[1;33m.\u001b[0m\u001b[0mnext\u001b[0m\u001b[1;33m(\u001b[0m\u001b[1;33m)\u001b[0m\u001b[1;33m\u001b[0m\u001b[0m\n\u001b[0m\u001b[0;32m    198\u001b[0m             \u001b[0mself\u001b[0m\u001b[1;33m.\u001b[0m\u001b[0mpage_index\u001b[0m \u001b[1;33m=\u001b[0m \u001b[1;33m-\u001b[0m\u001b[1;36m1\u001b[0m\u001b[1;33m\u001b[0m\u001b[0m\n\u001b[0;32m    199\u001b[0m         \u001b[0mself\u001b[0m\u001b[1;33m.\u001b[0m\u001b[0mpage_index\u001b[0m \u001b[1;33m+=\u001b[0m \u001b[1;36m1\u001b[0m\u001b[1;33m\u001b[0m\u001b[0m\n",
      "\u001b[1;32m/usr/local/lib/python2.7/dist-packages/tweepy/cursor.pyc\u001b[0m in \u001b[0;36mnext\u001b[1;34m(self)\u001b[0m\n\u001b[0;32m     73\u001b[0m         data, cursors = self.method(cursor=self.next_cursor,\n\u001b[0;32m     74\u001b[0m                                     \u001b[1;33m*\u001b[0m\u001b[0mself\u001b[0m\u001b[1;33m.\u001b[0m\u001b[0margs\u001b[0m\u001b[1;33m,\u001b[0m\u001b[1;33m\u001b[0m\u001b[0m\n\u001b[1;32m---> 75\u001b[1;33m                                     **self.kargs)\n\u001b[0m\u001b[0;32m     76\u001b[0m         \u001b[0mself\u001b[0m\u001b[1;33m.\u001b[0m\u001b[0mprev_cursor\u001b[0m\u001b[1;33m,\u001b[0m \u001b[0mself\u001b[0m\u001b[1;33m.\u001b[0m\u001b[0mnext_cursor\u001b[0m \u001b[1;33m=\u001b[0m \u001b[0mcursors\u001b[0m\u001b[1;33m\u001b[0m\u001b[0m\n\u001b[0;32m     77\u001b[0m         \u001b[1;32mif\u001b[0m \u001b[0mlen\u001b[0m\u001b[1;33m(\u001b[0m\u001b[0mdata\u001b[0m\u001b[1;33m)\u001b[0m \u001b[1;33m==\u001b[0m \u001b[1;36m0\u001b[0m\u001b[1;33m:\u001b[0m\u001b[1;33m\u001b[0m\u001b[0m\n",
      "\u001b[1;32m/usr/local/lib/python2.7/dist-packages/tweepy/binder.pyc\u001b[0m in \u001b[0;36m_call\u001b[1;34m(*args, **kwargs)\u001b[0m\n\u001b[0;32m    237\u001b[0m             \u001b[1;32mreturn\u001b[0m \u001b[0mmethod\u001b[0m\u001b[1;33m\u001b[0m\u001b[0m\n\u001b[0;32m    238\u001b[0m         \u001b[1;32melse\u001b[0m\u001b[1;33m:\u001b[0m\u001b[1;33m\u001b[0m\u001b[0m\n\u001b[1;32m--> 239\u001b[1;33m             \u001b[1;32mreturn\u001b[0m \u001b[0mmethod\u001b[0m\u001b[1;33m.\u001b[0m\u001b[0mexecute\u001b[0m\u001b[1;33m(\u001b[0m\u001b[1;33m)\u001b[0m\u001b[1;33m\u001b[0m\u001b[0m\n\u001b[0m\u001b[0;32m    240\u001b[0m \u001b[1;33m\u001b[0m\u001b[0m\n\u001b[0;32m    241\u001b[0m     \u001b[1;31m# Set pagination mode\u001b[0m\u001b[1;33m\u001b[0m\u001b[1;33m\u001b[0m\u001b[0m\n",
      "\u001b[1;32m/usr/local/lib/python2.7/dist-packages/tweepy/binder.pyc\u001b[0m in \u001b[0;36mexecute\u001b[1;34m(self)\u001b[0m\n\u001b[0;32m    221\u001b[0m                 \u001b[1;32mexcept\u001b[0m \u001b[0mException\u001b[0m\u001b[1;33m:\u001b[0m\u001b[1;33m\u001b[0m\u001b[0m\n\u001b[0;32m    222\u001b[0m                     \u001b[0merror_msg\u001b[0m \u001b[1;33m=\u001b[0m \u001b[1;34m\"Twitter error response: status code = %s\"\u001b[0m \u001b[1;33m%\u001b[0m \u001b[0mresp\u001b[0m\u001b[1;33m.\u001b[0m\u001b[0mstatus_code\u001b[0m\u001b[1;33m\u001b[0m\u001b[0m\n\u001b[1;32m--> 223\u001b[1;33m                 \u001b[1;32mraise\u001b[0m \u001b[0mTweepError\u001b[0m\u001b[1;33m(\u001b[0m\u001b[0merror_msg\u001b[0m\u001b[1;33m,\u001b[0m \u001b[0mresp\u001b[0m\u001b[1;33m)\u001b[0m\u001b[1;33m\u001b[0m\u001b[0m\n\u001b[0m\u001b[0;32m    224\u001b[0m \u001b[1;33m\u001b[0m\u001b[0m\n\u001b[0;32m    225\u001b[0m             \u001b[1;31m# Parse the response payload\u001b[0m\u001b[1;33m\u001b[0m\u001b[1;33m\u001b[0m\u001b[0m\n",
      "\u001b[1;31mTweepError\u001b[0m: [{u'message': u'Rate limit exceeded', u'code': 88}]"
     ]
    }
   ],
   "source": [
    "for follower in tweepy.Cursor(api.followers).items():\n",
    "    followers.append(follower)"
   ]
  },
  {
   "cell_type": "code",
   "execution_count": 16,
   "metadata": {
    "collapsed": false
   },
   "outputs": [
    {
     "data": {
      "text/plain": [
       "260"
      ]
     },
     "execution_count": 16,
     "metadata": {},
     "output_type": "execute_result"
    }
   ],
   "source": [
    "len(followers)"
   ]
  },
  {
   "cell_type": "code",
   "execution_count": null,
   "metadata": {
    "collapsed": true
   },
   "outputs": [],
   "source": [
    "urllib.urlretrieve()"
   ]
  },
  {
   "cell_type": "code",
   "execution_count": 23,
   "metadata": {
    "collapsed": false
   },
   "outputs": [],
   "source": [
    "for follower in followers:\n",
    "    urllib.urlretrieve(follower.profile_image_url_https.replace('_normal', ''), follower.screen_name)"
   ]
  },
  {
   "cell_type": "code",
   "execution_count": 29,
   "metadata": {
    "collapsed": false,
    "scrolled": true
   },
   "outputs": [
    {
     "name": "stdout",
     "output_type": "stream",
     "text": [
      "profiles/IsobelDArcy_cropped.jpg\n",
      "profiles/DavidEgan_cropped.jpg\n",
      "profiles/davidbabby_cropped.jpg\n",
      "profiles/margaret_bridge_cropped.jpg\n",
      "profiles/larettismo_cropped.jpg\n",
      "profiles/Chealy__cropped.jpg\n",
      "profiles/donalwallace_cropped.jpg\n",
      "profiles/Carlucianomusic_cropped.jpg\n",
      "profiles/amatflute_cropped.jpg\n",
      "profiles/barriefromcork_cropped.jpg\n",
      "profiles/joannapedrina_cropped.jpg\n",
      "profiles/alispagnola_cropped.jpg\n",
      "profiles/PeterTwomey_cropped.jpg\n",
      "profiles/Bellaknit_cropped.jpg\n",
      "profiles/dermotcasey_cropped.jpg\n",
      "profiles/gavreilly_cropped.jpg\n",
      "profiles/cillianmurphy_cropped.jpg\n",
      "profiles/Caraquest_cropped.jpg\n",
      "profiles/FiachraKinder_cropped.jpg\n",
      "profiles/kencurtin_cropped.jpg\n",
      "profiles/Ronan_Costello_cropped.jpg\n",
      "profiles/GavinMacDermott_cropped.jpg\n",
      "profiles/krisshaffer_cropped.jpg\n",
      "profiles/mwrcomposer_cropped.jpg\n",
      "profiles/Caitlin_Sherry_cropped.jpg\n",
      "profiles/FinbarrBegley_cropped.jpg\n",
      "profiles/matt_cello_cropped.jpg\n",
      "profiles/DominicaLucy_cropped.jpg\n",
      "profiles/oconnellhugh_cropped.jpg\n",
      "profiles/wmaso_cropped.jpg\n",
      "profiles/meganlavengood_cropped.jpg\n",
      "profiles/glen_ster_cropped.jpg\n",
      "profiles/annieswafford_cropped.jpg\n",
      "profiles/CarroljkJoe_cropped.jpg\n",
      "profiles/ValComedy_cropped.jpg\n",
      "profiles/KateATipp_cropped.jpg\n",
      "profiles/emmaormusic_cropped.jpg\n",
      "profiles/LILYmk_cropped.jpg\n",
      "profiles/SenDoherty_cropped.jpg\n",
      "profiles/pppaattrriicckk_cropped.jpg\n",
      "profiles/sallyhayd_cropped.jpg\n",
      "profiles/DanyGshi_cropped.jpg\n",
      "profiles/PohnJrafisko_cropped.jpg\n",
      "profiles/Jane_Deasy_cropped.jpg\n",
      "profiles/feelvall894_cropped.jpg\n",
      "profiles/stephenoleary_cropped.jpg\n",
      "profiles/Colm_Keaveney_cropped.jpg\n",
      "profiles/benwbrum_cropped.jpg\n",
      "profiles/MeganCanavan1_cropped.jpg\n",
      "profiles/ISayJK_cropped.jpg\n",
      "profiles/annaclock_cropped.jpg\n",
      "profiles/sendboyle_cropped.jpg\n",
      "profiles/joewalnes_cropped.jpg\n",
      "profiles/krispharper_cropped.jpg\n",
      "profiles/Mark_Sheridan_cropped.jpg\n",
      "profiles/Hozier_cropped.jpg\n",
      "profiles/garethgregan_cropped.jpg\n",
      "profiles/RaymondTedders_cropped.jpg\n",
      "profiles/ThisFashions_cropped.jpg\n",
      "profiles/HigginsDav_cropped.jpg\n",
      "profiles/PatrickPio1_cropped.jpg\n",
      "profiles/Little_Cannon_cropped.jpg\n",
      "profiles/hugh_odwyer_cropped.jpg\n",
      "profiles/Harmonica26_cropped.jpg\n",
      "profiles/paulmwatson_cropped.jpg\n",
      "profiles/jeannedesutun_cropped.jpg\n",
      "profiles/thereillywriter_cropped.jpg\n",
      "profiles/foreveralowen_cropped.jpg\n",
      "profiles/Sheeeela_cropped.jpg\n",
      "profiles/saratrademark_cropped.jpg\n",
      "profiles/MemesDev_cropped.jpg\n",
      "profiles/blagbtweets_cropped.jpg\n",
      "profiles/Producers_IRL_cropped.jpg\n",
      "profiles/colettebrowne_cropped.jpg\n",
      "profiles/nyscandia_cropped.jpg\n",
      "profiles/FintanMallory_cropped.jpg\n",
      "profiles/DonnellyStephen_cropped.jpg\n",
      "profiles/CharleneJessop_cropped.jpg\n",
      "profiles/rpblake_cropped.jpg\n",
      "profiles/NaoiseDolan_cropped.jpg\n",
      "profiles/saeedjabbar_cropped.jpg\n",
      "profiles/Taylorma91_cropped.jpg\n",
      "profiles/GTMFarrell_cropped.jpg\n",
      "profiles/jennkirby1_cropped.jpg\n",
      "profiles/enkelleh_cropped.jpg\n",
      "profiles/KelcyBoles_cropped.jpg\n",
      "profiles/micewhel_cropped.jpg\n",
      "profiles/rianderrig_cropped.jpg\n",
      "profiles/niamhnicu_cropped.jpg\n",
      "profiles/Al_toMyFriends_cropped.jpg\n",
      "profiles/McManus90_cropped.jpg\n",
      "profiles/AislingCahill_cropped.jpg\n",
      "profiles/NikolaiTrigoub_cropped.jpg\n",
      "profiles/Tracy_Jentzsch_cropped.jpg\n",
      "profiles/aifricdennison_cropped.jpg\n",
      "profiles/awymest_cropped.jpg\n"
     ]
    }
   ],
   "source": [
    "import cv2\n",
    "import sys\n",
    "import glob\n",
    "\n",
    "for imagePath in glob.glob('profiles/*'):\n",
    "    # Get user supplied values\n",
    "    cascPath = 'FaceDetect/haarcascade_frontalface_default.xml'\n",
    "\n",
    "    # Create the haar cascade\n",
    "    faceCascade = cv2.CascadeClassifier(cascPath)\n",
    "\n",
    "    # Read the image\n",
    "    image = cv2.imread(imagePath)\n",
    "    gray = cv2.cvtColor(image, cv2.COLOR_BGR2GRAY)\n",
    "\n",
    "    # Detect faces in the image\n",
    "    faces = faceCascade.detectMultiScale(\n",
    "        gray,\n",
    "        scaleFactor=1.1,\n",
    "        minNeighbors=5,\n",
    "        minSize=(30, 30),\n",
    "        flags = cv2.cv.CV_HAAR_SCALE_IMAGE\n",
    "    )\n",
    "\n",
    "    if len(faces) == 1:\n",
    "        face = faces[0]\n",
    "        x, y, w, h = face\n",
    "        cropped = image[y:y+h, x:x+w]\n",
    "        cv2.imwrite(imagePath.replace('.jpg', '_cropped.jpg'), cropped)\n",
    "        print imagePath.replace('.jpg', '_cropped.jpg')"
   ]
  },
  {
   "cell_type": "code",
   "execution_count": null,
   "metadata": {
    "collapsed": true
   },
   "outputs": [],
   "source": [
    "# At this point I move to the docker image and ran code like this:\n",
    "\n",
    "import os\n",
    "import numpy as np\n",
    "import glob\n",
    "# caffe_root = './caffe-master/' \n",
    "import sys\n",
    "# sys.path.insert(0, caffe_root + 'python')\n",
    "import caffe\n",
    "\n",
    "\n",
    "mean_filename='./mean.binaryproto'\n",
    "proto_data = open(mean_filename, \"rb\").read()\n",
    "a = caffe.io.caffe_pb2.BlobProto.FromString(proto_data)\n",
    "mean  = caffe.io.blobproto_to_array(a)[0]\n",
    "\n",
    "\n",
    "\n",
    "age_net_pretrained='./age_net.caffemodel'\n",
    "age_net_model_file='./deploy_age.prototxt'\n",
    "age_net = caffe.Classifier(age_net_model_file, age_net_pretrained,\n",
    "                       mean=mean.mean(1).mean(1),\n",
    "                       channel_swap=(2,1,0),\n",
    "                       raw_scale=255,\n",
    "                       image_dims=(256, 256))\n",
    "\n",
    "gender_net_pretrained='./gender_net.caffemodel'\n",
    "gender_net_model_file='./deploy_gender.prototxt'\n",
    "gender_net = caffe.Classifier(gender_net_model_file, gender_net_pretrained,\n",
    "                       mean=mean.mean(1).mean(1),\n",
    "                       channel_swap=(2,1,0),\n",
    "                       raw_scale=255,\n",
    "                       image_dims=(256, 256))\n",
    "\n",
    "age_list=['(0, 2)','(4, 6)','(8, 12)','(15, 20)','(25, 32)','(38, 43)','(48, 53)','(60, 100)']\n",
    "gender_list=['Male','Female']\n",
    "\n",
    "\n",
    "image_paths= [fp for fp in glob.glob('profiles/*cropped.jpg')]\n",
    "\n",
    "for image_path in image_paths:\n",
    "  input_image = caffe.io.load_image(image_path)\n",
    "  a_prediction = age_net.predict([input_image]) \n",
    "  g_prediction = gender_net.predict([input_image]) \n",
    "  print \"{};{};{}\".format(image_path, age_list[a_prediction[0].argmax()],  gender_list[g_prediction[0].argmax()])"
   ]
  },
  {
   "cell_type": "code",
   "execution_count": 33,
   "metadata": {
    "collapsed": true
   },
   "outputs": [],
   "source": [
    "classifier_output = \"\"\"profiles/stephenoleary_cropped.jpg;(4, 6);Male\n",
    "profiles/CarroljkJoe_cropped.jpg;(25, 32);Female\n",
    "profiles/Taylorma91_cropped.jpg;(8, 12);Male\n",
    "profiles/joewalnes_cropped.jpg;(25, 32);Male\n",
    "profiles/krispharper_cropped.jpg;(15, 20);Female\n",
    "profiles/NikolaiTrigoub_cropped.jpg;(25, 32);Male\n",
    "profiles/ISayJK_cropped.jpg;(0, 2);Male\n",
    "profiles/Mark_Sheridan_cropped.jpg;(4, 6);Female\n",
    "profiles/FintanMallory_cropped.jpg;(38, 43);Female\n",
    "profiles/rpblake_cropped.jpg;(25, 32);Male\n",
    "profiles/matt_cello_cropped.jpg;(4, 6);Female\n",
    "profiles/oconnellhugh_cropped.jpg;(8, 12);Male\n",
    "profiles/dermotcasey_cropped.jpg;(4, 6);Male\n",
    "profiles/Ronan_Costello_cropped.jpg;(25, 32);Male\n",
    "profiles/Carlucianomusic_cropped.jpg;(25, 32);Male\n",
    "profiles/amatflute_cropped.jpg;(25, 32);Female\n",
    "profiles/PeterTwomey_cropped.jpg;(8, 12);Male\n",
    "profiles/saratrademark_cropped.jpg;(25, 32);Female\n",
    "profiles/Little_Cannon_cropped.jpg;(25, 32);Female\n",
    "profiles/Caraquest_cropped.jpg;(4, 6);Female\n",
    "profiles/paulmwatson_cropped.jpg;(25, 32);Male\n",
    "profiles/CharleneJessop_cropped.jpg;(4, 6);Male\n",
    "profiles/McManus90_cropped.jpg;(25, 32);Male\n",
    "profiles/Colm_Keaveney_cropped.jpg;(25, 32);Male\n",
    "profiles/cillianmurphy_cropped.jpg;(25, 32);Male\n",
    "profiles/benwbrum_cropped.jpg;(25, 32);Male\n",
    "profiles/alispagnola_cropped.jpg;(25, 32);Female\n",
    "profiles/KelcyBoles_cropped.jpg;(25, 32);Female\n",
    "profiles/DanyGshi_cropped.jpg;(8, 12);Male\n",
    "profiles/DavidEgan_cropped.jpg;(25, 32);Male\n",
    "profiles/margaret_bridge_cropped.jpg;(25, 32);Female\n",
    "profiles/garethgregan_cropped.jpg;(25, 32);Male\n",
    "profiles/awymest_cropped.jpg;(25, 32);Female\n",
    "profiles/pppaattrriicckk_cropped.jpg;(25, 32);Male\n",
    "profiles/hugh_odwyer_cropped.jpg;(38, 43);Male\n",
    "profiles/MemesDev_cropped.jpg;(25, 32);Male\n",
    "profiles/Tracy_Jentzsch_cropped.jpg;(25, 32);Female\n",
    "profiles/IsobelDArcy_cropped.jpg;(0, 2);Male\n",
    "profiles/joannapedrina_cropped.jpg;(25, 32);Male\n",
    "profiles/Sheeeela_cropped.jpg;(38, 43);Female\n",
    "profiles/Producers_IRL_cropped.jpg;(25, 32);Male\n",
    "profiles/sallyhayd_cropped.jpg;(38, 43);Female\n",
    "profiles/colettebrowne_cropped.jpg;(38, 43);Female\n",
    "profiles/jennkirby1_cropped.jpg;(38, 43);Male\n",
    "profiles/sendboyle_cropped.jpg;(25, 32);Male\n",
    "profiles/enkelleh_cropped.jpg;(25, 32);Male\n",
    "profiles/saeedjabbar_cropped.jpg;(25, 32);Female\n",
    "profiles/davidbabby_cropped.jpg;(8, 12);Male\n",
    "profiles/annaclock_cropped.jpg;(4, 6);Female\n",
    "profiles/FiachraKinder_cropped.jpg;(25, 32);Male\n",
    "profiles/Al_toMyFriends_cropped.jpg;(0, 2);Male\n",
    "profiles/thereillywriter_cropped.jpg;(25, 32);Male\n",
    "profiles/Chealy__cropped.jpg;(4, 6);Female\n",
    "profiles/gavreilly_cropped.jpg;(25, 32);Female\n",
    "profiles/krisshaffer_cropped.jpg;(8, 12);Male\n",
    "profiles/RaymondTedders_cropped.jpg;(25, 32);Male\n",
    "profiles/PohnJrafisko_cropped.jpg;(4, 6);Female\n",
    "profiles/AislingCahill_cropped.jpg;(25, 32);Male\n",
    "profiles/GTMFarrell_cropped.jpg;(8, 12);Female\n",
    "profiles/mwrcomposer_cropped.jpg;(25, 32);Male\n",
    "profiles/Hozier_cropped.jpg;(25, 32);Female\n",
    "profiles/blagbtweets_cropped.jpg;(25, 32);Male\n",
    "profiles/feelvall894_cropped.jpg;(25, 32);Female\n",
    "profiles/emmaormusic_cropped.jpg;(25, 32);Female\n",
    "profiles/glen_ster_cropped.jpg;(4, 6);Male\n",
    "profiles/Bellaknit_cropped.jpg;(25, 32);Female\n",
    "profiles/Jane_Deasy_cropped.jpg;(25, 32);Female\n",
    "profiles/donalwallace_cropped.jpg;(25, 32);Male\n",
    "profiles/larettismo_cropped.jpg;(15, 20);Male\n",
    "profiles/FinbarrBegley_cropped.jpg;(25, 32);Female\n",
    "profiles/GavinMacDermott_cropped.jpg;(48, 53);Male\n",
    "profiles/Caitlin_Sherry_cropped.jpg;(25, 32);Female\n",
    "profiles/kencurtin_cropped.jpg;(25, 32);Male\n",
    "profiles/jeannedesutun_cropped.jpg;(25, 32);Female\n",
    "profiles/niamhnicu_cropped.jpg;(25, 32);Female\n",
    "profiles/wmaso_cropped.jpg;(25, 32);Male\n",
    "profiles/ThisFashions_cropped.jpg;(25, 32);Male\n",
    "profiles/meganlavengood_cropped.jpg;(38, 43);Female\n",
    "profiles/NaoiseDolan_cropped.jpg;(25, 32);Female\n",
    "profiles/micewhel_cropped.jpg;(25, 32);Male\n",
    "profiles/barriefromcork_cropped.jpg;(8, 12);Male\n",
    "profiles/LILYmk_cropped.jpg;(8, 12);Female\n",
    "profiles/HigginsDav_cropped.jpg;(4, 6);Male\n",
    "profiles/MeganCanavan1_cropped.jpg;(4, 6);Male\n",
    "profiles/DominicaLucy_cropped.jpg;(15, 20);Male\n",
    "profiles/annieswafford_cropped.jpg;(15, 20);Male\n",
    "profiles/nyscandia_cropped.jpg;(25, 32);Female\n",
    "profiles/SenDoherty_cropped.jpg;(0, 2);Male\n",
    "profiles/ValComedy_cropped.jpg;(48, 53);Male\n",
    "profiles/KateATipp_cropped.jpg;(25, 32);Female\n",
    "profiles/Harmonica26_cropped.jpg;(25, 32);Female\n",
    "profiles/DonnellyStephen_cropped.jpg;(38, 43);Female\n",
    "profiles/rianderrig_cropped.jpg;(38, 43);Female\n",
    "profiles/PatrickPio1_cropped.jpg;(15, 20);Female\n",
    "profiles/aifricdennison_cropped.jpg;(25, 32);Female\n",
    "profiles/foreveralowen_cropped.jpg;(25, 32);Male\"\"\""
   ]
  },
  {
   "cell_type": "code",
   "execution_count": 45,
   "metadata": {
    "collapsed": true
   },
   "outputs": [],
   "source": [
    "output = [x.split(';') for x in classifier_output.split('\\n')]"
   ]
  },
  {
   "cell_type": "code",
   "execution_count": 46,
   "metadata": {
    "collapsed": false
   },
   "outputs": [],
   "source": [
    "for o in output:\n",
    "    o[0] = o[0][9:].replace('_cropped.jpg', '')"
   ]
  },
  {
   "cell_type": "code",
   "execution_count": 48,
   "metadata": {
    "collapsed": false,
    "scrolled": true
   },
   "outputs": [
    {
     "data": {
      "text/plain": [
       "[['stephenoleary', '(4, 6)', 'Male'],\n",
       " ['CarroljkJoe', '(25, 32)', 'Female'],\n",
       " ['Taylorma91', '(8, 12)', 'Male'],\n",
       " ['joewalnes', '(25, 32)', 'Male'],\n",
       " ['krispharper', '(15, 20)', 'Female'],\n",
       " ['NikolaiTrigoub', '(25, 32)', 'Male'],\n",
       " ['ISayJK', '(0, 2)', 'Male'],\n",
       " ['Mark_Sheridan', '(4, 6)', 'Female'],\n",
       " ['FintanMallory', '(38, 43)', 'Female'],\n",
       " ['rpblake', '(25, 32)', 'Male'],\n",
       " ['matt_cello', '(4, 6)', 'Female'],\n",
       " ['oconnellhugh', '(8, 12)', 'Male'],\n",
       " ['dermotcasey', '(4, 6)', 'Male'],\n",
       " ['Ronan_Costello', '(25, 32)', 'Male'],\n",
       " ['Carlucianomusic', '(25, 32)', 'Male'],\n",
       " ['amatflute', '(25, 32)', 'Female'],\n",
       " ['PeterTwomey', '(8, 12)', 'Male'],\n",
       " ['saratrademark', '(25, 32)', 'Female'],\n",
       " ['Little_Cannon', '(25, 32)', 'Female'],\n",
       " ['Caraquest', '(4, 6)', 'Female'],\n",
       " ['paulmwatson', '(25, 32)', 'Male'],\n",
       " ['CharleneJessop', '(4, 6)', 'Male'],\n",
       " ['McManus90', '(25, 32)', 'Male'],\n",
       " ['Colm_Keaveney', '(25, 32)', 'Male'],\n",
       " ['cillianmurphy', '(25, 32)', 'Male'],\n",
       " ['benwbrum', '(25, 32)', 'Male'],\n",
       " ['alispagnola', '(25, 32)', 'Female'],\n",
       " ['KelcyBoles', '(25, 32)', 'Female'],\n",
       " ['DanyGshi', '(8, 12)', 'Male'],\n",
       " ['DavidEgan', '(25, 32)', 'Male'],\n",
       " ['margaret_bridge', '(25, 32)', 'Female'],\n",
       " ['garethgregan', '(25, 32)', 'Male'],\n",
       " ['awymest', '(25, 32)', 'Female'],\n",
       " ['pppaattrriicckk', '(25, 32)', 'Male'],\n",
       " ['hugh_odwyer', '(38, 43)', 'Male'],\n",
       " ['MemesDev', '(25, 32)', 'Male'],\n",
       " ['Tracy_Jentzsch', '(25, 32)', 'Female'],\n",
       " ['IsobelDArcy', '(0, 2)', 'Male'],\n",
       " ['joannapedrina', '(25, 32)', 'Male'],\n",
       " ['Sheeeela', '(38, 43)', 'Female'],\n",
       " ['Producers_IRL', '(25, 32)', 'Male'],\n",
       " ['sallyhayd', '(38, 43)', 'Female'],\n",
       " ['colettebrowne', '(38, 43)', 'Female'],\n",
       " ['jennkirby1', '(38, 43)', 'Male'],\n",
       " ['sendboyle', '(25, 32)', 'Male'],\n",
       " ['enkelleh', '(25, 32)', 'Male'],\n",
       " ['saeedjabbar', '(25, 32)', 'Female'],\n",
       " ['davidbabby', '(8, 12)', 'Male'],\n",
       " ['annaclock', '(4, 6)', 'Female'],\n",
       " ['FiachraKinder', '(25, 32)', 'Male'],\n",
       " ['Al_toMyFriends', '(0, 2)', 'Male'],\n",
       " ['thereillywriter', '(25, 32)', 'Male'],\n",
       " ['Chealy_', '(4, 6)', 'Female'],\n",
       " ['gavreilly', '(25, 32)', 'Female'],\n",
       " ['krisshaffer', '(8, 12)', 'Male'],\n",
       " ['RaymondTedders', '(25, 32)', 'Male'],\n",
       " ['PohnJrafisko', '(4, 6)', 'Female'],\n",
       " ['AislingCahill', '(25, 32)', 'Male'],\n",
       " ['GTMFarrell', '(8, 12)', 'Female'],\n",
       " ['mwrcomposer', '(25, 32)', 'Male'],\n",
       " ['Hozier', '(25, 32)', 'Female'],\n",
       " ['blagbtweets', '(25, 32)', 'Male'],\n",
       " ['feelvall894', '(25, 32)', 'Female'],\n",
       " ['emmaormusic', '(25, 32)', 'Female'],\n",
       " ['glen_ster', '(4, 6)', 'Male'],\n",
       " ['Bellaknit', '(25, 32)', 'Female'],\n",
       " ['Jane_Deasy', '(25, 32)', 'Female'],\n",
       " ['donalwallace', '(25, 32)', 'Male'],\n",
       " ['larettismo', '(15, 20)', 'Male'],\n",
       " ['FinbarrBegley', '(25, 32)', 'Female'],\n",
       " ['GavinMacDermott', '(48, 53)', 'Male'],\n",
       " ['Caitlin_Sherry', '(25, 32)', 'Female'],\n",
       " ['kencurtin', '(25, 32)', 'Male'],\n",
       " ['jeannedesutun', '(25, 32)', 'Female'],\n",
       " ['niamhnicu', '(25, 32)', 'Female'],\n",
       " ['wmaso', '(25, 32)', 'Male'],\n",
       " ['ThisFashions', '(25, 32)', 'Male'],\n",
       " ['meganlavengood', '(38, 43)', 'Female'],\n",
       " ['NaoiseDolan', '(25, 32)', 'Female'],\n",
       " ['micewhel', '(25, 32)', 'Male'],\n",
       " ['barriefromcork', '(8, 12)', 'Male'],\n",
       " ['LILYmk', '(8, 12)', 'Female'],\n",
       " ['HigginsDav', '(4, 6)', 'Male'],\n",
       " ['MeganCanavan1', '(4, 6)', 'Male'],\n",
       " ['DominicaLucy', '(15, 20)', 'Male'],\n",
       " ['annieswafford', '(15, 20)', 'Male'],\n",
       " ['nyscandia', '(25, 32)', 'Female'],\n",
       " ['SenDoherty', '(0, 2)', 'Male'],\n",
       " ['ValComedy', '(48, 53)', 'Male'],\n",
       " ['KateATipp', '(25, 32)', 'Female'],\n",
       " ['Harmonica26', '(25, 32)', 'Female'],\n",
       " ['DonnellyStephen', '(38, 43)', 'Female'],\n",
       " ['rianderrig', '(38, 43)', 'Female'],\n",
       " ['PatrickPio1', '(15, 20)', 'Female'],\n",
       " ['aifricdennison', '(25, 32)', 'Female'],\n",
       " ['foreveralowen', '(25, 32)', 'Male']]"
      ]
     },
     "execution_count": 48,
     "metadata": {},
     "output_type": "execute_result"
    }
   ],
   "source": [
    "# Twitter handle, age range, gender\n",
    "\n",
    "output"
   ]
  }
 ],
 "metadata": {
  "kernelspec": {
   "display_name": "Python 2",
   "language": "python",
   "name": "python2"
  },
  "language_info": {
   "codemirror_mode": {
    "name": "ipython",
    "version": 2
   },
   "file_extension": ".py",
   "mimetype": "text/x-python",
   "name": "python",
   "nbconvert_exporter": "python",
   "pygments_lexer": "ipython2",
   "version": "2.7.6"
  }
 },
 "nbformat": 4,
 "nbformat_minor": 0
}
