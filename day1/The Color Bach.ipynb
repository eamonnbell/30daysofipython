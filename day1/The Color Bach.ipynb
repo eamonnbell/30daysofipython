{
 "cells": [
  {
   "cell_type": "markdown",
   "metadata": {},
   "source": [
    "# Day 1: The Color Bach"
   ]
  },
  {
   "cell_type": "markdown",
   "metadata": {},
   "source": [
    "This is an experiment that uses the Spotify Web API to compute the average colors used in classical music album covers and generate a sample cover for that composer. Connecting to Spotify was a breeze with `spotipy`, and downloading and saving the cover images was OK with `urllib`, but it's pretty slow. Needs more concurrency. `spotipy` checks environment variables for authentication keys, which can be requested at dev.spotify.com. I don't bother filtering Spotify query results, so this works with any search query, not just composer names.\n",
    "\n",
    "As for extracting the color palettes from the downloaded images, I first found the library `colorweave`, which was a total pain to use because it required an older version of `pillow` (a fork of `PIL`, the Python Imaging Library) because of a broken call to `pillow`'s api. The more impressive - but scantily documented - `colorific` (by [99 designs](https://github.com/99designs/colorific)) also had a dependency on `pillow`, and is not really advertised as a module (but is importable as such) and worked well, eventually.\n",
    "\n",
    "I kept getting stuck with an `IOError: jpeg decoder not installed` from `pillow`, and it took close to an hour to come up with a solution. I'm on 64-bit Linux, FWIW. And, since I was (trying) to use a virtualenv for this project, I'm not sure what of this solution actually worked; I think I fell back on installing to the system dist-packages location with the ill-advised `sudo pip install`... At this point, I can't remember. Dependencies can be a bit of a nightmare when starting out.\n",
    "\n",
    "1. Uninstall `pillow` and `PIL` with PIP\n",
    "2. Install `libjpeg8-dev` headers with your package manager of choice\n",
    "3. Download and extract latest `pillow` source somewhere\n",
    "4. Make a symlink or too per this SO response: http://stackoverflow.com/a/12301138\n",
    "5. `(sudo) python setup.py` in the root directory of the `pillow` source\n",
    "\n",
    "Initially I found the average of a bunch of colors in RGB space but points close in this space are not necessarily perceptually similar, so I use a module called `colormath` to convert in to the so-called Lab colorspace, do the math, and pop back into RGB. Probably could use something clever like clustering.\n",
    "\n",
    "Results in the last cell."
   ]
  },
  {
   "cell_type": "code",
   "execution_count": 1,
   "metadata": {
    "collapsed": true
   },
   "outputs": [],
   "source": [
    "import spotipy\n",
    "import colorific\n",
    "import urllib\n",
    "import PIL\n",
    "\n",
    "from colormath.color_objects import XYZColor, sRGBColor, LabColor\n",
    "from colormath.color_conversions import convert_color\n",
    "\n",
    "from IPython.display import HTML, display\n",
    "from IPython.display import Image as ShowImage\n",
    "from glob import glob\n",
    "from spotipy.oauth2 import SpotifyClientCredentials\n",
    "from PIL import ImageFont\n",
    "from PIL import Image\n",
    "from PIL import ImageDraw"
   ]
  },
  {
   "cell_type": "code",
   "execution_count": 2,
   "metadata": {
    "collapsed": false
   },
   "outputs": [],
   "source": [
    "# Initialize spotipy service\n",
    "\n",
    "client_credentials_manager = SpotifyClientCredentials()\n",
    "sp = spotipy.Spotify(client_credentials_manager=client_credentials_manager)"
   ]
  },
  {
   "cell_type": "code",
   "execution_count": 3,
   "metadata": {
    "collapsed": true
   },
   "outputs": [],
   "source": [
    "def calculate_perceptual_average(colorlist):\n",
    "    lablist = []\n",
    "    \n",
    "    for color in colorlist:\n",
    "        rgb = sRGBColor(*color)\n",
    "        xyz = convert_color(rgb, XYZColor, target_illuminant='d50')\n",
    "        lab = convert_color(xyz, LabColor)\n",
    "        lablist.append(lab.get_value_tuple())\n",
    "    \n",
    "    # First implementation had this, computing average in RGB space\n",
    "    # naive_average = tuple(map(lambda y: int(sum(y) / float(len(y))), zip(*colorlist)))\n",
    "    \n",
    "    average = tuple(map(lambda y: int(sum(y) / float(len(y))), zip(*lablist)))\n",
    "    \n",
    "    average_lab = LabColor(*average)\n",
    "    average_xyz = convert_color(average_lab, XYZColor, target_illuminant='d50')\n",
    "    average_rgb = convert_color(average_xyz, sRGBColor)\n",
    "    \n",
    "    return tuple(map(int, (average_rgb.get_value_tuple())))"
   ]
  },
  {
   "cell_type": "code",
   "execution_count": 4,
   "metadata": {
    "collapsed": false
   },
   "outputs": [],
   "source": [
    "def generate_album_cover(composer, n=15):\n",
    "    results = sp.search(composer, limit=n, type='album')\n",
    "\n",
    "    album_art_urls = []\n",
    "    \n",
    "    # The first url is the highest resolution\n",
    " \n",
    "    for album in results['albums']['items']:\n",
    "        album_art_urls.append(album['images'][0]['url'])\n",
    " \n",
    "    # Download each of the album art images\n",
    "    \n",
    "    for album_art_url in album_art_urls:\n",
    "        urllib.urlretrieve(album_art_url, album_art_url.split('/')[-1] + '.jpg')\n",
    "    \n",
    "    album_art_colors = []\n",
    "\n",
    "    for album_art_file in album_art_urls:\n",
    "        try:\n",
    "            colors = colorific.extract_colors(album_art_file.split('/')[-1] + '.jpg', max_colors=3)\n",
    "            album_art_colors.append(colors)\n",
    "        except IOError:\n",
    "            # Sometimes the CDN that hosts the images borks up and doesn't serve a valid image file.\n",
    "            # Wasn't concerned with figuring out what was happening: maybe licensing/localization issue\n",
    "            continue\n",
    "\n",
    "    primary = []\n",
    "    secondary = []\n",
    "    background = []\n",
    "    \n",
    "    # Sometimes colorific doesn't recommend more than one color\n",
    "    # You get a Palette object which contains several colors ranked by prominence\n",
    "    # ...and, sometimes, a bgcolor property\n",
    "    \n",
    "    for palette in album_art_colors:\n",
    "        primary.append(palette.colors[0].value)\n",
    "        \n",
    "        if len(palette.colors) > 1:\n",
    "            secondary.append(palette.colors[1].value)\n",
    "            \n",
    "        if palette.bgcolor is not None:\n",
    "            background.append(palette.bgcolor.value)\n",
    "        else:\n",
    "            background.append((0, 0, 0))\n",
    "    \n",
    "    # Could be made prettier with a map()\n",
    "    \n",
    "    primarycolor = calculate_perceptual_average(primary)\n",
    "    secondarycolor = calculate_perceptual_average(secondary)\n",
    "    backgroundcolor = calculate_perceptual_average(background)\n",
    "    \n",
    "    # A system font on Linux. Your mileage may vary.\n",
    "    \n",
    "    font = ImageFont.truetype(\"/usr/share/fonts/truetype/dejavu/DejaVuSans-Bold.ttf\", size=25)\n",
    "    \n",
    "    img=Image.new(\"RGBA\", (200,200),backgroundcolor)\n",
    "\n",
    "    draw = ImageDraw.Draw(img)\n",
    "    \n",
    "    draw.text((0, 0),composer,secondarycolor,font=font)\n",
    "    draw.rectangle([(45, 60), (115,150)], fill=primarycolor)\n",
    "        \n",
    "    img.save(\"cover_{}.png\".format(composer))"
   ]
  },
  {
   "cell_type": "code",
   "execution_count": 5,
   "metadata": {
    "collapsed": false
   },
   "outputs": [
    {
     "name": "stderr",
     "output_type": "stream",
     "text": [
      "/home/eamonn/Projects/thecolorbach/venv/local/lib/python2.7/site-packages/requests/packages/urllib3/util/ssl_.py:90: InsecurePlatformWarning: A true SSLContext object is not available. This prevents urllib3 from configuring SSL appropriately and may cause certain SSL connections to fail. For more information, see https://urllib3.readthedocs.org/en/latest/security.html#insecureplatformwarning.\n",
      "  InsecurePlatformWarning\n",
      "/home/eamonn/Projects/thecolorbach/venv/local/lib/python2.7/site-packages/requests/packages/urllib3/util/ssl_.py:90: InsecurePlatformWarning: A true SSLContext object is not available. This prevents urllib3 from configuring SSL appropriately and may cause certain SSL connections to fail. For more information, see https://urllib3.readthedocs.org/en/latest/security.html#insecureplatformwarning.\n",
      "  InsecurePlatformWarning\n"
     ]
    },
    {
     "data": {
      "image/png": "[encoded data removed]",
      "text/plain": [
       "<IPython.core.display.Image object>"
      ]
     },
     "metadata": {},
     "output_type": "display_data"
    },
    {
     "data": {
      "image/png": "[encoded data removed]",
      "text/plain": [
       "<IPython.core.display.Image object>"
      ]
     },
     "metadata": {},
     "output_type": "display_data"
    },
    {
     "data": {
      "image/png": "[encoded data removed]",
      "text/plain": [
       "<IPython.core.display.Image object>"
      ]
     },
     "metadata": {},
     "output_type": "display_data"
    },
    {
     "data": {
      "image/png": "[encoded data removed]",
      "text/plain": [
       "<IPython.core.display.Image object>"
      ]
     },
     "metadata": {},
     "output_type": "display_data"
    },
    {
     "data": {
      "image/png": "[encoded data removed]",
      "text/plain": [
       "<IPython.core.display.Image object>"
      ]
     },
     "metadata": {},
     "output_type": "display_data"
    },
    {
     "data": {
      "image/png": "[encoded data removed]",
      "text/plain": [
       "<IPython.core.display.Image object>"
      ]
     },
     "metadata": {},
     "output_type": "display_data"
    },
    {
     "data": {
      "image/png": "[encoded data removed]",
      "text/plain": [
       "<IPython.core.display.Image object>"
      ]
     },
     "metadata": {},
     "output_type": "display_data"
    },
    {
     "data": {
      "image/png": "[encoded data removed]",
      "text/plain": [
       "<IPython.core.display.Image object>"
      ]
     },
     "metadata": {},
     "output_type": "display_data"
    },
    {
     "data": {
      "image/png": "[encoded data removed]",
      "text/plain": [
       "<IPython.core.display.Image object>"
      ]
     },
     "metadata": {},
     "output_type": "display_data"
    },
    {
     "data": {
      "image/png": "[encoded data removed]",
      "text/plain": [
       "<IPython.core.display.Image object>"
      ]
     },
     "metadata": {},
     "output_type": "display_data"
    },
    {
     "data": {
      "image/png": "[encoded data removed]",
      "text/plain": [
       "<IPython.core.display.Image object>"
      ]
     },
     "metadata": {},
     "output_type": "display_data"
    }
   ],
   "source": [
    "composers = ['Bach', 'Beethoven', 'Haydn', 'Mozart', 'Stockhausen', 'Corelli', 'Vivaldi', 'Thomas Ades', 'Lassus', 'Jennifer Higdon']\n",
    "\n",
    "for composer in composers:\n",
    "    generate_album_cover(composer)\n",
    "\n",
    "# Uses some iPython functions to render the images in the notebook\n",
    "\n",
    "for filename in glob(\"cover*.png\"):\n",
    "    display(ShowImage(filename=filename))"
   ]
  }
 ],
 "metadata": {
  "kernelspec": {
   "display_name": "Python 2",
   "language": "python",
   "name": "python2"
  },
  "language_info": {
   "codemirror_mode": {
    "name": "ipython",
    "version": 2
   },
   "file_extension": ".py",
   "mimetype": "text/x-python",
   "name": "python",
   "nbconvert_exporter": "python",
   "pygments_lexer": "ipython2",
   "version": "2.7.6"
  }
 },
 "nbformat": 4,
 "nbformat_minor": 0
}
